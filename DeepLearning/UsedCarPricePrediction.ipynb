{
  "nbformat": 4,
  "nbformat_minor": 0,
  "metadata": {
    "colab": {
      "provenance": [],
      "gpuType": "A100",
      "machine_shape": "hm"
    },
    "kernelspec": {
      "name": "python3",
      "display_name": "Python 3"
    },
    "language_info": {
      "name": "python"
    },
    "accelerator": "GPU",
    "gpuClass": "standard"
  },
  "cells": [
    {
      "cell_type": "code",
      "execution_count": null,
      "metadata": {
        "id": "E14b1qD8Q3FY"
      },
      "outputs": [],
      "source": [
        "import os\n",
        "import datetime\n",
        "\n",
        "import numpy as np\n",
        "import pandas as pd\n",
        "import seaborn as sns\n",
        "import matplotlib.pyplot as plt\n",
        "%matplotlib inline\n",
        "\n",
        "import torch\n",
        "import torch.nn as nn\n",
        "from sklearn.preprocessing import LabelEncoder\n",
        "\n",
        "from google.colab import files\n",
        "from google.colab import drive"
      ]
    },
    {
      "cell_type": "code",
      "source": [
        "drive.mount('/content/drive')"
      ],
      "metadata": {
        "colab": {
          "base_uri": "https://localhost:8080/"
        },
        "id": "71g5P0OxiML1",
        "outputId": "754b320f-1ce3-4e0c-de81-3f770a6b70a6"
      },
      "execution_count": null,
      "outputs": [
        {
          "output_type": "stream",
          "name": "stdout",
          "text": [
            "Mounted at /content/drive\n"
          ]
        }
      ]
    },
    {
      "cell_type": "code",
      "source": [
        "# !unzip  -q /content/drive/MyDrive/DL_Project/train-data.zip -d /content/train-data\n",
        "# !unzip  -q /content/drive/MyDrive/DL_Project/test-data.zip -d /content/test-data\n",
        "\n",
        "!unzip -q /content/drive/MyDrive/College/3.\\ Junior/Winter\\ Semester/CS\\ 474/Final\\ DL/Car_Data/train-data.zip -d /content/train-data\n",
        "!unzip -q /content/drive/MyDrive/College/3.\\ Junior/Winter\\ Semester/CS\\ 474/Final\\ DL/Car_Data/test-data.zip -d /content/test-data"
      ],
      "metadata": {
        "id": "6g0imDs3RLMB"
      },
      "execution_count": null,
      "outputs": []
    },
    {
      "cell_type": "markdown",
      "source": [
        "# Load Data"
      ],
      "metadata": {
        "id": "sdKWVD0HG9G7"
      }
    },
    {
      "cell_type": "code",
      "source": [
        "# read in train and test data\n",
        "train_data = pd.read_csv(\"/content/train-data/train-data.csv\", na_values = [\"null bhp\"])\n",
        "test_data = pd.read_csv(\"/content/test-data/test-data.csv\", na_values = [\"null bhp\"])"
      ],
      "metadata": {
        "id": "wqs3hqAyTw6D"
      },
      "execution_count": null,
      "outputs": []
    },
    {
      "cell_type": "markdown",
      "source": [
        "# Clean Data"
      ],
      "metadata": {
        "id": "zOeTPJsLG4xs"
      }
    },
    {
      "cell_type": "code",
      "source": [
        "# remove unnecessary parameters\n",
        "train_data.drop(\"New_Price\", axis = 1, inplace = True)\n",
        "train_data.drop(\"Unnamed: 0\", axis = 1, inplace = True)\n",
        "train_data.drop([\"Name\", \"Location\"], axis = 1, inplace = True)\n",
        "train_data[\"Seats\"].fillna(train_data[\"Seats\"].value_counts().values[0], inplace = True)\n",
        "\n",
        "# remove rows with missing values\n",
        "train_data.dropna(inplace = True)"
      ],
      "metadata": {
        "id": "o0YnugNBG4JQ"
      },
      "execution_count": null,
      "outputs": []
    },
    {
      "cell_type": "code",
      "source": [
        "# function to convert columns from string to float\n",
        "def convert_data(val):\n",
        "    if not pd.isnull(val):\n",
        "\n",
        "        # extract the numeric part of the string value\n",
        "        return float(val.split(' ')[0])\n",
        "        \n",
        "    return val"
      ],
      "metadata": {
        "id": "chLEWd8jVO-a"
      },
      "execution_count": null,
      "outputs": []
    },
    {
      "cell_type": "markdown",
      "source": [
        "### Convert column data"
      ],
      "metadata": {
        "id": "7kiLV_t0HYSR"
      }
    },
    {
      "cell_type": "code",
      "source": [
        "# Convert 'Power' column to float and replace NA values with the mean\n",
        "train_data[\"Power\"] = train_data[\"Power\"].apply(lambda val: convert_data(val))\n",
        "train_data[\"Power\"].fillna(train_data[\"Power\"].mean(), inplace = True)\n",
        "\n",
        "\n",
        "# Convert 'Engine' column to float and replace NA values with the mean\n",
        "train_data[\"Engine\"] = train_data[\"Engine\"].apply(lambda val: convert_data(val))\n",
        "train_data[\"Engine\"].fillna(train_data[\"Engine\"].median(), inplace = True)\n",
        "\n",
        "\n",
        "# Convert 'Mileage' column to float\n",
        "train_data[\"Mileage\"] = train_data[\"Mileage\"].apply(lambda val: convert_data(val))\n",
        "\n",
        "# convert price units\n",
        "train_data[\"Price\"] = train_data[\"Price\"] * 100000"
      ],
      "metadata": {
        "id": "4BOeMWnrV59X"
      },
      "execution_count": null,
      "outputs": []
    },
    {
      "cell_type": "code",
      "source": [
        "# Calculate the age of the car\n",
        "# create a new column called 'Total Years' to replace the Year column\n",
        "train_data['Total Years'] = datetime.datetime.now().year - train_data[\"Year\"]\n",
        "train_data.drop('Year', axis = 1, inplace = True)"
      ],
      "metadata": {
        "id": "QMxJ_o7HV8EY"
      },
      "execution_count": null,
      "outputs": []
    },
    {
      "cell_type": "markdown",
      "source": [
        "### Format data"
      ],
      "metadata": {
        "id": "4yBqwOM5II65"
      }
    },
    {
      "cell_type": "code",
      "source": [
        "# Define the categorical features and output feature to be used in the model\n",
        "cat_features = ['Fuel_Type', 'Transmission', 'Owner_Type']\n",
        "out_features = 'Price'\n",
        "\n",
        "# Create a label encoder for the 'Fuel_Type' column and fit it to the data\n",
        "# TODO Do we need this?\n",
        "lbl_encoders = {}\n",
        "lbl_encoders[\"Fuel_Type\"] = LabelEncoder()\n",
        "lbl_encoders[\"Fuel_Type\"].fit_transform(train_data[\"Fuel_Type\"])\n",
        "\n",
        "# Create label encoders for each categorical feature and fit them to the data\n",
        "lbl_encoders = {}\n",
        "for features in cat_features:\n",
        "    lbl_encoders[features] = LabelEncoder()\n",
        "    train_data[features] = lbl_encoders[features].fit_transform(train_data[features])"
      ],
      "metadata": {
        "id": "AHtZz4S5ZIkT"
      },
      "execution_count": null,
      "outputs": []
    },
    {
      "cell_type": "code",
      "source": [
        "# Stack the categorical features horizontally and convert them to a tensor\n",
        "cat_features = np.stack([train_data[\"Fuel_Type\"], train_data[\"Transmission\"], train_data[\"Owner_Type\"]], axis = 1)\n",
        "cat_features = torch.tensor(cat_features, dtype = torch.int64)\n",
        "\n",
        "# Create a list of continuous features for every column \n",
        "# except the categorical or the target features ('Price')\n",
        "cont_features = []\n",
        "for i in train_data.columns:\n",
        "    if i in ['Fuel_Type', 'Transmission', 'Owner_Type', 'Price']:\n",
        "        pass\n",
        "    else:\n",
        "        cont_features.append(i)"
      ],
      "metadata": {
        "id": "ZodPi-RxZSPT"
      },
      "execution_count": null,
      "outputs": []
    },
    {
      "cell_type": "code",
      "source": [
        "# Stack the continuous features horizontally and convert them to a tensor\n",
        "cont_features = np.stack([train_data[i].values for i in cont_features], axis = 1)\n",
        "cont_features = torch.tensor(cont_features, dtype = torch.float)\n",
        "\n",
        "# Convert the target feature to a tensor and reshape it\n",
        "y = torch.tensor(train_data['Price'].values,dtype=torch.float).reshape(-1,1)\n",
        "\n",
        "# Get the number of unique values for each categorical feature\n",
        "cat_dims = [train_data[i].nunique() for i in [\"Fuel_Type\", \"Transmission\", \"Owner_Type\"]]\n",
        "\n",
        "# Set the embedding dimensions for each categorical feature \n",
        "# based on the number of unique values\n",
        "embedding_dim = [(i, min(50, (i+1) // 2)) for i in cat_dims]"
      ],
      "metadata": {
        "id": "rtVLzKoTZmUQ"
      },
      "execution_count": null,
      "outputs": []
    },
    {
      "cell_type": "markdown",
      "source": [
        "### Embed training data"
      ],
      "metadata": {
        "id": "LAmZU8IANMVW"
      }
    },
    {
      "cell_type": "code",
      "source": [
        "# Create Embedding layers for categorical features\n",
        "embed_rep = nn.ModuleList([nn.Embedding(i,e) for i,e in embedding_dim])\n",
        "\n",
        "# Embed categorical features and concatenate the resulting tensors\n",
        "embedding_value = []\n",
        "for ind, e in enumerate(embed_rep):\n",
        "    embedding_value.append(e(cat_features[:, ind]))\n",
        "    \n",
        "z = torch.cat(embedding_value, 1)\n",
        "\n",
        "# Apply 40% dropout to the concatenated tensor\n",
        "drpout = nn.Dropout(0.4)\n",
        "z = drpout(z)"
      ],
      "metadata": {
        "id": "cw7OYaADaepA"
      },
      "execution_count": null,
      "outputs": []
    },
    {
      "cell_type": "markdown",
      "source": [
        "# Neural Network"
      ],
      "metadata": {
        "id": "NcTh-uuZKlJ0"
      }
    },
    {
      "cell_type": "code",
      "source": [
        "class UsedCarPricePredictionNN(nn.Module):\n",
        "    def __init__(self, cat_dim, n_cont, layers, out_sz, p=0.5):\n",
        "        super().__init__()\n",
        "                \n",
        "        # Define the embedding layer for categorical features\n",
        "        embedded_dim = [(i, min(50, (i+1) // 2)) for i in cat_dim]\n",
        "        self.embd_list = nn.ModuleList([nn.Embedding(inp, out) for inp, out in embedded_dim])\n",
        "        \n",
        "        # Define the dropout and batch normalization layer for continuous features\n",
        "        self.drpout = nn.Dropout(p)\n",
        "        self.batchnorm = nn.BatchNorm1d(n_cont)\n",
        "        \n",
        "        # Define a simple feedforward neural network architecture with one layer\n",
        "        layerslist = []\n",
        "        n_emb = sum([out for inp, out in embedded_dim])\n",
        "        n_in = n_emb + n_cont\n",
        "        \n",
        "        for i in layers:\n",
        "            layerslist.append(nn.Linear(n_in, i))\n",
        "            layerslist.append(nn.ReLU(inplace = True))\n",
        "            layerslist.append(nn.BatchNorm1d(i))\n",
        "            layerslist.append(nn.Dropout(p))\n",
        "            n_in = i\n",
        "        layerslist.append(nn.Linear(layers[-1], out_sz))\n",
        "        \n",
        "        self.layers = nn.Sequential(* layerslist)\n",
        "        \n",
        "        \n",
        "    def forward(self, x_cat, x_cont):\n",
        "        embeddings = []\n",
        "        for i, e in enumerate(self.embd_list):\n",
        "            embeddings.append(e(x_cat[:,i]))\n",
        "        x = torch.cat(embeddings, 1)\n",
        "\n",
        "        # Apply dropout\n",
        "        x = self.drpout(x)\n",
        "        \n",
        "        # Apply batch normalization to the continuous features\n",
        "        x_cont = self.batchnorm(x_cont)\n",
        "        \n",
        "        # Concatenate the embeddings and continuous features\n",
        "        x = torch.cat([x, x_cont], axis=1)\n",
        "                \n",
        "        # Pass the concatenated features through the feedforward neural network\n",
        "        x = self.layers(x)\n",
        "        \n",
        "        return x"
      ],
      "metadata": {
        "id": "CP6DWOH9aoOg"
      },
      "execution_count": null,
      "outputs": []
    },
    {
      "cell_type": "markdown",
      "source": [
        "### Initialize model and data"
      ],
      "metadata": {
        "id": "In6Q9JVKKsWm"
      }
    },
    {
      "cell_type": "code",
      "source": [
        "# Set the random seed to ensure reproducibility\n",
        "torch.manual_seed(100)\n",
        "\n",
        "# nstantiate the neural network model\n",
        "model = UsedCarPricePredictionNN(cat_dims, 6, [100, 50], 1, p = 0.4)\n",
        "\n",
        "# Define the loss function and optimizer\n",
        "loss_function = nn.MSELoss()\n",
        "optimizer = torch.optim.Adam(model.parameters(), lr = 0.05)\n",
        "\n",
        "# Set the batch size and test size\n",
        "batch_size = 6000\n",
        "test_size = int(batch_size*0.15)\n",
        "\n",
        "# split the categorical features into train and test sets\n",
        "train_categorical = cat_features[:batch_size-test_size]\n",
        "test_categorical = cat_features[batch_size-test_size:batch_size]\n",
        "\n",
        "# split the continuous features\n",
        "train_cont = cont_features[:batch_size-test_size]\n",
        "test_cont = cont_features[batch_size-test_size:batch_size]\n",
        "\n",
        "# split the target variables\n",
        "y_train = y[:batch_size-test_size]\n",
        "y_test = y[batch_size-test_size:batch_size]\n",
        "\n",
        "# len(train_categorical),len(test_categorical),len(train_cont),len(test_cont),len(y_train),len(y_test)"
      ],
      "metadata": {
        "id": "R_V-sK0BaocZ"
      },
      "execution_count": null,
      "outputs": []
    },
    {
      "cell_type": "markdown",
      "source": [
        "### Train"
      ],
      "metadata": {
        "id": "Zs5KXnJtKuux"
      }
    },
    {
      "cell_type": "code",
      "source": [
        "epochs = 2400\n",
        "final_losses = []\n",
        "\n",
        "for i in range(epochs):\n",
        "    # TODO why is this line here?\n",
        "    i=i+1\n",
        "\n",
        "    # perform a forward pass through the model\n",
        "    y_pred = model(train_categorical,train_cont)\n",
        "\n",
        "    # Calculate the root mean squared loss\n",
        "    loss = torch.sqrt(loss_function(y_pred,y_train))\n",
        "    final_losses.append(loss)\n",
        "\n",
        "    # Print the epoch and loss regularly\n",
        "    if i % 100 == 1:\n",
        "        print(\"Epoch number: {} and the loss : {}\".format(i,loss.item()))\n",
        "\n",
        "    # Backward pass to calculate gradients and update for each parameter\n",
        "    optimizer.zero_grad()\n",
        "    loss.backward()\n",
        "    optimizer.step()"
      ],
      "metadata": {
        "colab": {
          "base_uri": "https://localhost:8080/"
        },
        "id": "hYwmh-xubucU",
        "outputId": "34f6629f-9388-41b0-f589-43e998e91063"
      },
      "execution_count": null,
      "outputs": [
        {
          "output_type": "stream",
          "name": "stdout",
          "text": [
            "Epoch number: 1 and the loss : 1472162.125\n",
            "Epoch number: 101 and the loss : 1468921.125\n",
            "Epoch number: 201 and the loss : 1456600.75\n",
            "Epoch number: 301 and the loss : 1434834.625\n",
            "Epoch number: 401 and the loss : 1404819.375\n",
            "Epoch number: 501 and the loss : 1366380.875\n",
            "Epoch number: 601 and the loss : 1318217.0\n",
            "Epoch number: 701 and the loss : 1265031.25\n",
            "Epoch number: 801 and the loss : 1204389.125\n",
            "Epoch number: 901 and the loss : 1136968.375\n",
            "Epoch number: 1001 and the loss : 1063197.375\n",
            "Epoch number: 1101 and the loss : 987369.9375\n",
            "Epoch number: 1201 and the loss : 902817.625\n",
            "Epoch number: 1301 and the loss : 826141.5625\n",
            "Epoch number: 1401 and the loss : 741809.125\n",
            "Epoch number: 1501 and the loss : 668040.25\n",
            "Epoch number: 1601 and the loss : 607843.6875\n",
            "Epoch number: 1701 and the loss : 545701.6875\n",
            "Epoch number: 1801 and the loss : 502495.375\n",
            "Epoch number: 1901 and the loss : 485526.28125\n",
            "Epoch number: 2001 and the loss : 468251.21875\n",
            "Epoch number: 2101 and the loss : 458547.21875\n",
            "Epoch number: 2201 and the loss : 444470.375\n",
            "Epoch number: 2301 and the loss : 452254.28125\n"
          ]
        }
      ]
    },
    {
      "cell_type": "code",
      "source": [
        "type(final_losses[0])"
      ],
      "metadata": {
        "colab": {
          "base_uri": "https://localhost:8080/"
        },
        "id": "K9C-izfskI5A",
        "outputId": "3c3a683c-d1ee-451d-df63-ec3fe75a9718"
      },
      "execution_count": null,
      "outputs": [
        {
          "output_type": "execute_result",
          "data": {
            "text/plain": [
              "torch.Tensor"
            ]
          },
          "metadata": {},
          "execution_count": 22
        }
      ]
    },
    {
      "cell_type": "code",
      "source": [
        "# show training results\n",
        "final_losses = [f.detach().numpy() for f in final_losses]\n",
        "plt.plot(range(epochs), final_losses)\n",
        "plt.ylabel('RMSE Loss')\n",
        "plt.xlabel('epoch')"
      ],
      "metadata": {
        "colab": {
          "base_uri": "https://localhost:8080/",
          "height": 482
        },
        "id": "bdx2lD7dbw-8",
        "outputId": "3733612d-62d1-4d8c-a704-a5eb1760afe0"
      },
      "execution_count": null,
      "outputs": [
        {
          "output_type": "execute_result",
          "data": {
            "text/plain": [
              "Text(0.5, 0, 'epoch')"
            ]
          },
          "metadata": {},
          "execution_count": 23
        },
        {
          "output_type": "display_data",
          "data": {
            "text/plain": [
              "<Figure size 640x480 with 1 Axes>"
            ],
            "image/png": "[encoded data removed]"
          },
          "metadata": {}
        }
      ]
    },
    {
      "cell_type": "markdown",
      "source": [
        "### Show training results"
      ],
      "metadata": {
        "id": "4i0cvuunNS5y"
      }
    },
    {
      "cell_type": "code",
      "source": [
        "# Make predictions on the test dataset\n",
        "y_pred = \"\"\n",
        "with torch.no_grad():\n",
        "    y_pred = model(test_categorical,test_cont)\n",
        "    loss = torch.sqrt(loss_function(y_pred,y_test))\n",
        "    \n",
        "print('RMSE: {}'.format(loss))"
      ],
      "metadata": {
        "id": "XYrTEcoOib68",
        "colab": {
          "base_uri": "https://localhost:8080/"
        },
        "outputId": "f0f91146-5523-4a49-d2f1-2c58a49c0df6"
      },
      "execution_count": null,
      "outputs": [
        {
          "output_type": "stream",
          "name": "stdout",
          "text": [
            "RMSE: 621493.75\n"
          ]
        }
      ]
    },
    {
      "cell_type": "code",
      "source": [
        "# store test and prediction data\n",
        "data_verify = pd.DataFrame(y_test.tolist(), columns=[\"Test\"])\n",
        "data_predicted = pd.DataFrame(y_pred.tolist(), columns=[\"Prediction\"])\n",
        "\n",
        "# calculate the difference between  \"Test\" and \"Prediction\"\n",
        "final_output = pd.concat([data_verify, data_predicted],axis=1)\n",
        "final_output['Difference']=final_output['Test'] - final_output['Prediction']\n",
        "final_output = final_output / (100000)"
      ],
      "metadata": {
        "id": "WWX-P_6HieDa"
      },
      "execution_count": null,
      "outputs": []
    },
    {
      "cell_type": "code",
      "source": [
        "# save model network\n",
        "torch.save(model,'SalePrice.pt')\n",
        "torch.save(model.state_dict(),'PriceWeights.pt')"
      ],
      "metadata": {
        "id": "nyXSnS8siozE"
      },
      "execution_count": null,
      "outputs": []
    },
    {
      "cell_type": "markdown",
      "source": [
        "# Validation"
      ],
      "metadata": {
        "id": "GvcprWm0M0kz"
      }
    },
    {
      "cell_type": "code",
      "source": [
        "# load a new instance of the model with the trained weights\n",
        "cat_size = [4,2,4]\n",
        "model1 = UsedCarPricePredictionNN(cat_size, 6, [100, 50], 1, p=0.4)\n",
        "model1.load_state_dict(torch.load('PriceWeights.pt'))\n",
        "\n",
        "# set model to eval mode to ensure that any \n",
        "# dropout layers or batch normalization layers are properly handled\n",
        "model1.eval()"
      ],
      "metadata": {
        "id": "iYTApoIkipHU",
        "colab": {
          "base_uri": "https://localhost:8080/"
        },
        "outputId": "6214da94-55cf-4751-a77c-642c46bbc64a"
      },
      "execution_count": null,
      "outputs": [
        {
          "output_type": "execute_result",
          "data": {
            "text/plain": [
              "UsedCarPricePredictionNN(\n",
              "  (embd_list): ModuleList(\n",
              "    (0): Embedding(4, 2)\n",
              "    (1): Embedding(2, 1)\n",
              "    (2): Embedding(4, 2)\n",
              "  )\n",
              "  (drpout): Dropout(p=0.4, inplace=False)\n",
              "  (batchnorm): BatchNorm1d(6, eps=1e-05, momentum=0.1, affine=True, track_running_stats=True)\n",
              "  (layers): Sequential(\n",
              "    (0): Linear(in_features=11, out_features=100, bias=True)\n",
              "    (1): ReLU(inplace=True)\n",
              "    (2): BatchNorm1d(100, eps=1e-05, momentum=0.1, affine=True, track_running_stats=True)\n",
              "    (3): Dropout(p=0.4, inplace=False)\n",
              "    (4): Linear(in_features=100, out_features=50, bias=True)\n",
              "    (5): ReLU(inplace=True)\n",
              "    (6): BatchNorm1d(50, eps=1e-05, momentum=0.1, affine=True, track_running_stats=True)\n",
              "    (7): Dropout(p=0.4, inplace=False)\n",
              "    (8): Linear(in_features=50, out_features=1, bias=True)\n",
              "  )\n",
              ")"
            ]
          },
          "metadata": {},
          "execution_count": 27
        }
      ]
    },
    {
      "cell_type": "code",
      "source": [
        "# initialize new validation data\n",
        "catee = np.array([1,1,0])\n",
        "conti = np.array([4.1000e+04, 1.9670e+01, 1.5820e+03, 1.2620e+02, 5.0000e+00, 6.0000e+00])\n",
        "\n",
        "# format validation data\n",
        "catee = torch.tensor(catee.reshape(1,3), dtype = torch.int64)\n",
        "conti = torch.tensor(conti.reshape(1,6), dtype= torch.float)\n",
        "\n",
        "# compute price prediction\n",
        "model1(catee, conti)"
      ],
      "metadata": {
        "id": "A3SDf-i6ipeN",
        "colab": {
          "base_uri": "https://localhost:8080/"
        },
        "outputId": "176a4d9c-0e6f-45b9-cece-62e6750c862e"
      },
      "execution_count": null,
      "outputs": [
        {
          "output_type": "execute_result",
          "data": {
            "text/plain": [
              "tensor([[1125195.]], grad_fn=<AddmmBackward0>)"
            ]
          },
          "metadata": {},
          "execution_count": 28
        }
      ]
    }
  ]
}