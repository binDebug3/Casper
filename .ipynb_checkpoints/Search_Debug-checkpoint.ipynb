{
 "cells": [
  {
   "cell_type": "code",
   "execution_count": 1,
   "id": "454d61a4",
   "metadata": {},
   "outputs": [
    {
     "ename": "ImportError",
     "evalue": "cannot import name 'NoSuchElementException' from 'selenium.common' (C:\\Users\\dalli\\anaconda3\\lib\\site-packages\\selenium\\common\\__init__.py)",
     "output_type": "error",
     "traceback": [
      "\u001b[1;31m---------------------------------------------------------------------------\u001b[0m",
      "\u001b[1;31mImportError\u001b[0m                               Traceback (most recent call last)",
      "\u001b[1;32m~\\AppData\\Local\\Temp/ipykernel_20104/1997811185.py\u001b[0m in \u001b[0;36m<module>\u001b[1;34m\u001b[0m\n\u001b[0;32m      2\u001b[0m \u001b[1;32mimport\u001b[0m \u001b[0mpickle\u001b[0m\u001b[1;33m\u001b[0m\u001b[1;33m\u001b[0m\u001b[0m\n\u001b[0;32m      3\u001b[0m \u001b[1;32mimport\u001b[0m \u001b[0mdatetime\u001b[0m\u001b[1;33m\u001b[0m\u001b[1;33m\u001b[0m\u001b[0m\n\u001b[1;32m----> 4\u001b[1;33m \u001b[1;32mimport\u001b[0m \u001b[0mmain\u001b[0m\u001b[1;33m\u001b[0m\u001b[1;33m\u001b[0m\u001b[0m\n\u001b[0m\u001b[0;32m      5\u001b[0m \u001b[1;32mimport\u001b[0m \u001b[0mmath\u001b[0m\u001b[1;33m\u001b[0m\u001b[1;33m\u001b[0m\u001b[0m\n",
      "\u001b[1;32m~\\PycharmProjects\\CarMarket\\Casper\\main.py\u001b[0m in \u001b[0;36m<module>\u001b[1;34m\u001b[0m\n\u001b[0;32m      1\u001b[0m \u001b[1;32mimport\u001b[0m \u001b[0mAutoTrader\u001b[0m\u001b[1;33m\u001b[0m\u001b[1;33m\u001b[0m\u001b[0m\n\u001b[1;32m----> 2\u001b[1;33m \u001b[1;32mimport\u001b[0m \u001b[0mKSL\u001b[0m\u001b[1;33m\u001b[0m\u001b[1;33m\u001b[0m\u001b[0m\n\u001b[0m\u001b[0;32m      3\u001b[0m \u001b[1;32mimport\u001b[0m \u001b[0mCarGuru\u001b[0m\u001b[1;33m\u001b[0m\u001b[1;33m\u001b[0m\u001b[0m\n\u001b[0;32m      4\u001b[0m \u001b[1;32mimport\u001b[0m \u001b[0mCarsDirect\u001b[0m\u001b[1;33m\u001b[0m\u001b[1;33m\u001b[0m\u001b[0m\n\u001b[0;32m      5\u001b[0m \u001b[1;32mfrom\u001b[0m \u001b[0mplyer\u001b[0m \u001b[1;32mimport\u001b[0m \u001b[0mnotification\u001b[0m\u001b[1;33m\u001b[0m\u001b[1;33m\u001b[0m\u001b[0m\n",
      "\u001b[1;32m~\\PycharmProjects\\CarMarket\\Casper\\KSL.py\u001b[0m in \u001b[0;36m<module>\u001b[1;34m\u001b[0m\n\u001b[0;32m      9\u001b[0m \u001b[1;32mimport\u001b[0m \u001b[0murllib\u001b[0m\u001b[1;33m.\u001b[0m\u001b[0mrequest\u001b[0m\u001b[1;33m\u001b[0m\u001b[1;33m\u001b[0m\u001b[0m\n\u001b[0;32m     10\u001b[0m \u001b[1;32mfrom\u001b[0m \u001b[0mselenium\u001b[0m \u001b[1;32mimport\u001b[0m \u001b[0mwebdriver\u001b[0m\u001b[1;33m\u001b[0m\u001b[1;33m\u001b[0m\u001b[0m\n\u001b[1;32m---> 11\u001b[1;33m \u001b[1;32mfrom\u001b[0m \u001b[0mselenium\u001b[0m\u001b[1;33m.\u001b[0m\u001b[0mcommon\u001b[0m \u001b[1;32mimport\u001b[0m \u001b[0mNoSuchElementException\u001b[0m\u001b[1;33m\u001b[0m\u001b[1;33m\u001b[0m\u001b[0m\n\u001b[0m\u001b[0;32m     12\u001b[0m \u001b[1;31m# from selenium.webdriver.common.keys import Keys\u001b[0m\u001b[1;33m\u001b[0m\u001b[1;33m\u001b[0m\u001b[0m\n\u001b[0;32m     13\u001b[0m \u001b[1;32mfrom\u001b[0m \u001b[0mselenium\u001b[0m\u001b[1;33m.\u001b[0m\u001b[0mwebdriver\u001b[0m\u001b[1;33m.\u001b[0m\u001b[0mcommon\u001b[0m\u001b[1;33m.\u001b[0m\u001b[0mby\u001b[0m \u001b[1;32mimport\u001b[0m \u001b[0mBy\u001b[0m\u001b[1;33m\u001b[0m\u001b[1;33m\u001b[0m\u001b[0m\n",
      "\u001b[1;31mImportError\u001b[0m: cannot import name 'NoSuchElementException' from 'selenium.common' (C:\\Users\\dalli\\anaconda3\\lib\\site-packages\\selenium\\common\\__init__.py)"
     ]
    }
   ],
   "source": [
    "import pandas as pd\n",
    "import pickle\n",
    "import datetime\n",
    "import main\n",
    "import math"
   ]
  },
  {
   "cell_type": "code",
   "execution_count": null,
   "id": "6c02ba49",
   "metadata": {},
   "outputs": [],
   "source": [
    "def findBrand(nameList):\n",
    "    \"\"\"\n",
    "    Extract the brand of the car from the listing title\n",
    "    :param nameList: name listing for the car split by spaces into a list\n",
    "    :return: match (string): the brand of the car\n",
    "    \"\"\"\n",
    "    # use list operator & to get all the words that match between\n",
    "    # the set of brands and the words in the car's listing\n",
    "    brands = main.brands\n",
    "    match = list(set(brands.keys()) & set(nameList))\n",
    "    length = len(match)\n",
    "\n",
    "    # if none found, return 'Not Recognized', otherwise rebuild the string and return the brand\n",
    "    if length == 0:\n",
    "        return \"Not recognized\"\n",
    "    elif length > 1:\n",
    "        return \" \".join(match)\n",
    "    else:\n",
    "        return match[0]"
   ]
  },
  {
   "cell_type": "code",
   "execution_count": null,
   "id": "d5e104b6",
   "metadata": {},
   "outputs": [],
   "source": [
    "def findModel(nameList, brand):\n",
    "    \"\"\"\n",
    "    Extract the model of the car from the listing title\n",
    "    :param nameList: name listing for the car split by spaces into a list\n",
    "    :param brand: brand of the car\n",
    "    :return:\n",
    "    \"\"\"\n",
    "    if brand != \"Not recognized\":\n",
    "        # get the index of the brand in the name list\n",
    "        index = nameList.index(brand)\n",
    "        # return the rest of the list following the brand\n",
    "        return \" \".join(nameList[index + 1:])\n",
    "    return \"None\""
   ]
  },
  {
   "cell_type": "code",
   "execution_count": null,
   "id": "df61a15e",
   "metadata": {},
   "outputs": [],
   "source": [
    "def findYear(nameList):\n",
    "    \"\"\"\n",
    "    Extract the year of the car from the listing title\n",
    "    :param nameList: name listing for the car split by spaces into a list\n",
    "    :return:\n",
    "    \"\"\"\n",
    "    # return the first grouping of digits found in the name list\n",
    "    for word in nameList:\n",
    "        if word.isdigit():\n",
    "            return int(word)\n",
    "    return 0"
   ]
  },
  {
   "cell_type": "code",
   "execution_count": null,
   "id": "5259a5c3",
   "metadata": {},
   "outputs": [],
   "source": [
    "def getNewCars(retailer, garage):\n",
    "    \"\"\"\n",
    "    NOT currently used\n",
    "    Read all saved cars from Excel spreadsheet and compare it to the cars scraped to identify new cars.\n",
    "    This is not the most efficient approach, and it fails to recognize matches if any of the parameters changed,\n",
    "    for better or for worse\n",
    "    :param garage:\n",
    "    :return: newCars (list): list of car objects that were not already in the database\n",
    "    \"\"\"\n",
    "    # read the csv and get a list of their hashed IDs woot woot\n",
    "    fileName = retailer + \".csv\"\n",
    "    dfOld = pd.read_csv(fileName)\n",
    "    oldIDs = dfOld[\"Hash\"].values.tolist()\n",
    "\n",
    "    # compare each old ID to each new ID\n",
    "    IDS = []\n",
    "    for id in oldIDs:\n",
    "        if isinstance(id, float) and not math.isnan(id):\n",
    "            IDS.append(int(id))\n",
    "        elif isinstance(id, int):\n",
    "            IDS.append(id)\n",
    "        elif isinstance(id, str) and id.isdigit():\n",
    "            IDS.append(int(id))\n",
    "    print(f\"There are {len(IDS)} cars already in the table\")\n",
    "\n",
    "    # build list of car objects based on the list of IDs corresponding to new cars\n",
    "    newCars = []\n",
    "    for car in garage:\n",
    "        if car.id not in IDS:\n",
    "            newCars.append(car)\n",
    "    return newCars"
   ]
  },
  {
   "cell_type": "code",
   "execution_count": null,
   "id": "59c4d23b",
   "metadata": {},
   "outputs": [],
   "source": [
    "def toCSV__OLD__(retailer, garage):\n",
    "    \"\"\"\n",
    "    Convert a list of Car objects to a CSV\n",
    "    :param retailer:\n",
    "    :param garage:\n",
    "    :return:\n",
    "    \"\"\"\n",
    "    # this is only useful when saving a new csv that does not already have columns\n",
    "    columns = [\"Make\", \"Model\", \"Score\", \"Price\", \"Year\", \"Mileage\", \"Date\", \"OnSale\", \"Days\",\n",
    "               \"Source\", \"Link\", \"Image\", \"Hash\"]\n",
    "    fileName = retailer + \".csv\"\n",
    "\n",
    "    dfOld = pd.read_csv(fileName)\n",
    "    dfOld.OnSale = \"False\"\n",
    "\n",
    "    # use Car's toDict method to build a new dataframe, save it, then call the export method\n",
    "    df = pd.DataFrame([car.toDict() for car in garage])\n",
    "    df.to_csv(fileName, mode='a', index=False)\n",
    "    print(f\"Found {df.shape[0]} new cars.\")\n",
    "    # exportCSV(retailer)\n",
    "\n",
    "    # visibility statement\n",
    "    print(f\"Exported {len(garage)} cars to {fileName}\")"
   ]
  },
  {
   "cell_type": "markdown",
   "id": "3fbd6cc7",
   "metadata": {},
   "source": [
    "# TO CSV"
   ]
  },
  {
   "cell_type": "code",
   "execution_count": null,
   "id": "b0a06385",
   "metadata": {},
   "outputs": [],
   "source": [
    "\"\"\"\n",
    "Clean database and export update version to overwrite the old version\n",
    ":param garage: \n",
    ":param retailer:\n",
    ":return:\n",
    "\"\"\""
   ]
  },
  {
   "cell_type": "code",
   "execution_count": 3,
   "id": "d7c6e034",
   "metadata": {},
   "outputs": [],
   "source": [
    "# this is only useful when saving a new csv that does not already have columns\n",
    "columns = [\"Make\", \"Model\", \"Score\", \"Price\", \"Year\", \"Mileage\", \"Date\", \"OnSale\", \"Days\",\n",
    "           \"Source\", \"Link\", \"Image\", \"Hash\"]\n",
    "\n",
    "retailer = \"CarGuru\""
   ]
  },
  {
   "cell_type": "code",
   "execution_count": 11,
   "id": "134471aa",
   "metadata": {},
   "outputs": [],
   "source": [
    "# read the file and set OnSale to false\n",
    "fileName = retailer + \".csv\"\n",
    "dfOld = pd.read_csv(fileName)\n",
    "dfOld.OnSale = \"False\""
   ]
  },
  {
   "cell_type": "code",
   "execution_count": 14,
   "id": "babead27",
   "metadata": {},
   "outputs": [
    {
     "ename": "EOFError",
     "evalue": "Ran out of input",
     "output_type": "error",
     "traceback": [
      "\u001b[1;31m---------------------------------------------------------------------------\u001b[0m",
      "\u001b[1;31mEOFError\u001b[0m                                  Traceback (most recent call last)",
      "\u001b[1;32m~\\AppData\\Local\\Temp/ipykernel_20104/2696563684.py\u001b[0m in \u001b[0;36m<module>\u001b[1;34m\u001b[0m\n\u001b[0;32m      1\u001b[0m \u001b[0mgaragePickle\u001b[0m \u001b[1;33m=\u001b[0m \u001b[1;34m\"garage_\"\u001b[0m \u001b[1;33m+\u001b[0m \u001b[0mretailer\u001b[0m \u001b[1;33m+\u001b[0m \u001b[1;34m\".pickle\"\u001b[0m\u001b[1;33m\u001b[0m\u001b[1;33m\u001b[0m\u001b[0m\n\u001b[0;32m      2\u001b[0m \u001b[1;31m# with open(garagePickle, 'wb') as pickle_file:\u001b[0m\u001b[1;33m\u001b[0m\u001b[1;33m\u001b[0m\u001b[0m\n\u001b[1;32m----> 3\u001b[1;33m \u001b[0mgarage\u001b[0m \u001b[1;33m=\u001b[0m \u001b[0mpickle\u001b[0m\u001b[1;33m.\u001b[0m\u001b[0mload\u001b[0m\u001b[1;33m(\u001b[0m\u001b[0mopen\u001b[0m\u001b[1;33m(\u001b[0m\u001b[0mgaragePickle\u001b[0m\u001b[1;33m,\u001b[0m \u001b[1;34m\"rb\"\u001b[0m\u001b[1;33m)\u001b[0m\u001b[1;33m)\u001b[0m\u001b[1;33m\u001b[0m\u001b[1;33m\u001b[0m\u001b[0m\n\u001b[0m",
      "\u001b[1;31mEOFError\u001b[0m: Ran out of input"
     ]
    }
   ],
   "source": [
    "garagePickle = \"garage_\" + retailer + \".pickle\"\n",
    "# with open(garagePickle, 'wb') as pickle_file:\n",
    "garage = pickle.load(open(garagePickle, \"rb\"))"
   ]
  },
  {
   "cell_type": "code",
   "execution_count": 10,
   "id": "62375409",
   "metadata": {},
   "outputs": [
    {
     "ename": "NameError",
     "evalue": "name 'garage' is not defined",
     "output_type": "error",
     "traceback": [
      "\u001b[1;31m---------------------------------------------------------------------------\u001b[0m",
      "\u001b[1;31mNameError\u001b[0m                                 Traceback (most recent call last)",
      "\u001b[1;32m~\\AppData\\Local\\Temp/ipykernel_20104/1950312017.py\u001b[0m in \u001b[0;36m<module>\u001b[1;34m\u001b[0m\n\u001b[0;32m      1\u001b[0m \u001b[1;31m# use Car's toDict method to build a new dataframe with the new cars\u001b[0m\u001b[1;33m\u001b[0m\u001b[1;33m\u001b[0m\u001b[0m\n\u001b[1;32m----> 2\u001b[1;33m \u001b[0mdf\u001b[0m \u001b[1;33m=\u001b[0m \u001b[0mpd\u001b[0m\u001b[1;33m.\u001b[0m\u001b[0mDataFrame\u001b[0m\u001b[1;33m(\u001b[0m\u001b[1;33m[\u001b[0m\u001b[0mcar\u001b[0m\u001b[1;33m.\u001b[0m\u001b[0mtoDict\u001b[0m\u001b[1;33m(\u001b[0m\u001b[1;33m)\u001b[0m \u001b[1;32mfor\u001b[0m \u001b[0mcar\u001b[0m \u001b[1;32min\u001b[0m \u001b[0mgarage\u001b[0m\u001b[1;33m]\u001b[0m\u001b[1;33m)\u001b[0m\u001b[1;33m\u001b[0m\u001b[1;33m\u001b[0m\u001b[0m\n\u001b[0m\u001b[0;32m      3\u001b[0m \u001b[0mprint\u001b[0m\u001b[1;33m(\u001b[0m\u001b[1;34mf\"Found {df.shape[0]} new cars.\"\u001b[0m\u001b[1;33m)\u001b[0m\u001b[1;33m\u001b[0m\u001b[1;33m\u001b[0m\u001b[0m\n\u001b[0;32m      4\u001b[0m \u001b[0mdf\u001b[0m\u001b[1;33m\u001b[0m\u001b[1;33m\u001b[0m\u001b[0m\n",
      "\u001b[1;31mNameError\u001b[0m: name 'garage' is not defined"
     ]
    }
   ],
   "source": [
    "# use Car's toDict method to build a new dataframe with the new cars\n",
    "df = pd.DataFrame([car.toDict() for car in garage])\n",
    "print(f\"Found {df.shape[0]} new cars.\")\n",
    "df"
   ]
  },
  {
   "cell_type": "code",
   "execution_count": null,
   "id": "a287a030",
   "metadata": {},
   "outputs": [],
   "source": [
    "# append new cars to old cars\n",
    "df = pd.concat([dfOld, df])"
   ]
  },
  {
   "cell_type": "code",
   "execution_count": null,
   "id": "753fb523",
   "metadata": {},
   "outputs": [],
   "source": [
    "# drop hash duplicates so that OnSale=True remains\n",
    "df = df[df.Make != \"Make\"]\n",
    "df = df.sort_values([\"OnSale\"], ascending=False)\n",
    "df = df.drop_duplicates([\"Hash\"])"
   ]
  },
  {
   "cell_type": "code",
   "execution_count": null,
   "id": "27b1347f",
   "metadata": {},
   "outputs": [],
   "source": [
    "# clean data frame\n",
    "df.Score = df.Score.astype(float)\n",
    "df.Price = df.Price.astype(float)\n",
    "df.Days = pd.to_numeric(df.Days)"
   ]
  },
  {
   "cell_type": "code",
   "execution_count": null,
   "id": "bb9e5cdf",
   "metadata": {},
   "outputs": [],
   "source": [
    "# increment the number of days since last update\n",
    "today = datetime.date.today()\n",
    "pickleName = \"last_update_\" + retailer + \".pickle\"\n",
    "\n",
    "# get the last update date\n",
    "try:\n",
    "    last_update = pickle.load(open(pickleName, \"rb\"))\n",
    "except (OSError, IOError) as e:\n",
    "    last_update = today\n",
    "    pickle.dump(last_update, open(pickleName, \"wb\"))"
   ]
  },
  {
   "cell_type": "code",
   "execution_count": null,
   "id": "b2555e07",
   "metadata": {},
   "outputs": [],
   "source": [
    "# update days on market if car is still on sale\n",
    "df.Days = df.apply(lambda x: x.Days.add((today - last_update).days) if x.OnSale == \"True\" else x.Days, axis=1)\n",
    "# df.Days = df.Days.add((today - last_update).days)"
   ]
  },
  {
   "cell_type": "code",
   "execution_count": null,
   "id": "5f613543",
   "metadata": {},
   "outputs": [],
   "source": [
    "# save the most recent update date (today)\n",
    "with open(pickleName, 'wb') as pickle_file:\n",
    "    pickle.dump(today, pickle_file)"
   ]
  },
  {
   "cell_type": "code",
   "execution_count": null,
   "id": "d299aff7",
   "metadata": {},
   "outputs": [],
   "source": [
    "# sort the dataframe and update the csv\n",
    "df = df.sort_values([\"Days\", \"Score\", \"Price\"], ascending=False)"
   ]
  },
  {
   "cell_type": "code",
   "execution_count": null,
   "id": "a67f7d08",
   "metadata": {},
   "outputs": [],
   "source": [
    "df.to_csv(fileName, index=False, mode='w')"
   ]
  }
 ],
 "metadata": {
  "kernelspec": {
   "display_name": "Python 3 (ipykernel)",
   "language": "python",
   "name": "python3"
  },
  "language_info": {
   "codemirror_mode": {
    "name": "ipython",
    "version": 3
   },
   "file_extension": ".py",
   "mimetype": "text/x-python",
   "name": "python",
   "nbconvert_exporter": "python",
   "pygments_lexer": "ipython3",
   "version": "3.9.7"
  }
 },
 "nbformat": 4,
 "nbformat_minor": 5
}
